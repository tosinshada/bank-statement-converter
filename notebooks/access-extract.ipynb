{
 "cells": [
  {
   "cell_type": "code",
   "id": "initial_id",
   "metadata": {
    "collapsed": true,
    "jupyter": {
     "is_executing": true
    }
   },
   "source": [
    "from datetime import datetime\n",
    "\n",
    "import camelot\n",
    "import pandas as pd"
   ],
   "outputs": [],
   "execution_count": null
  },
  {
   "metadata": {},
   "cell_type": "code",
   "source": [
    "# Configuration\n",
    "PDF_FILE_PATH = './docs/statement-4.pdf'\n",
    "\n",
    "# Column Headers from the Document\n",
    "COLUMN_NAMES = [\n",
    "    \"Posted Date\",\n",
    "    \"Value Date\",\n",
    "    \"Description\",\n",
    "    \"Debit\",\n",
    "    \"Credit\",\n",
    "    \"Balance\"\n",
    "]\n",
    "\n",
    "def extract_and_clean_transactions(pdf_path: str) -> pd.DataFrame:\n",
    "    \"\"\"Extract, build, and clean transaction data from a PDF.\"\"\"\n",
    "    print(\"Starting extraction...\")\n",
    "    tables = camelot.read_pdf(pdf_path, pages='all', flavor='stream', row_tol=15)\n",
    "    transactions_df = pd.concat([table.df for table in tables], ignore_index=True)\n",
    "    transactions_df.dropna(axis=1, how='all', inplace=True)\n",
    "\n",
    "    num_columns = min(len(COLUMN_NAMES), transactions_df.shape[1])\n",
    "    transactions_df.columns = COLUMN_NAMES[:num_columns]\n",
    "\n",
    "    print(\"Performing final data cleaning...\")\n",
    "    cleaned_df = transactions_df.copy()\n",
    "\n",
    "    # Clean up newline characters and leading/trailing spaces\n",
    "    for col in cleaned_df.columns:\n",
    "        if cleaned_df[col].dtype == 'object':\n",
    "            cleaned_df.loc[:, col] = (\n",
    "                cleaned_df[col]\n",
    "                .str.replace('\\n', ' ', regex=False)\n",
    "                .str.strip()\n",
    "            )\n",
    "\n",
    "    def clean_numeric_col(series: pd.Series) -> pd.Series:\n",
    "        # Remove commas, letters, and any non-numeric characters except for '.' and '-'\n",
    "        cleaned_series = series.astype(str).str.replace(',', '', regex=False)\n",
    "        cleaned_series = cleaned_series.str.replace(r'[^\\d.-]', '', regex=True)\n",
    "        return pd.to_numeric(cleaned_series, errors='coerce')\n",
    "\n",
    "    cleaned_df.loc[:, 'Debit'] = clean_numeric_col(cleaned_df['Debit'])\n",
    "    cleaned_df.loc[:, 'Credit'] = clean_numeric_col(cleaned_df['Credit'])\n",
    "    cleaned_df.loc[:, 'Balance'] = clean_numeric_col(cleaned_df['Balance'])\n",
    "\n",
    "    cleaned_df.loc[:, 'Posted Date'] = pd.to_datetime(\n",
    "        cleaned_df['Posted Date'],\n",
    "        format=\"%d-%b-%y\",\n",
    "        errors='coerce'\n",
    "    )\n",
    "    cleaned_df.loc[:, 'Value Date'] = pd.to_datetime(\n",
    "        cleaned_df['Value Date'],\n",
    "        format=\"%d-%b-%y\",\n",
    "        errors='coerce'\n",
    "    )\n",
    "\n",
    "    cleaned_df = cleaned_df[cleaned_df['Value Date'].notna()]\n",
    "    cleaned_df.reset_index(drop=True, inplace=True)\n",
    "\n",
    "    print(\"Extraction and cleaning complete.\")\n",
    "    return cleaned_df"
   ],
   "id": "99bb554d2d2e5eb2",
   "outputs": [],
   "execution_count": null
  },
  {
   "metadata": {},
   "cell_type": "code",
   "source": [
    "if __name__ == '__main__':\n",
    "    # --- Execute the script ---\n",
    "    final_transactions_df = extract_and_clean_transactions(PDF_FILE_PATH)\n",
    "\n",
    "    # --- Display Results ---\n",
    "    print(\"\\n--- Extracted Transactions ---\")\n",
    "    print(f\"Total transactions extracted: {len(final_transactions_df)}\")\n",
    "\n",
    "    # Display the first 10 and last 10 transactions\n",
    "    print(\"\\nFirst 50 Transactions:\")\n",
    "    display(final_transactions_df.head(50))\n",
    "\n",
    "    print(\"\\nLast 50 Transactions:\")\n",
    "    display(final_transactions_df.tail(50))\n",
    "\n",
    "    # --- Optional: Save to CSV ---\n",
    "    try:\n",
    "        output_csv_path = f'./output/extracted_transactions{datetime.now().strftime('%d%m%Y%H%M%S')}.csv'\n",
    "        final_transactions_df.to_csv(output_csv_path, index=False)\n",
    "        print(f\"\\nSuccessfully saved cleaned data to '{output_csv_path}'\")\n",
    "    except Exception as e:\n",
    "        print(f\"\\nCould not save to CSV: {e}\")"
   ],
   "id": "2ba4d9b87dc23a93",
   "outputs": [],
   "execution_count": null
  }
 ],
 "metadata": {
  "kernelspec": {
   "display_name": "Python 3",
   "language": "python",
   "name": "python3"
  },
  "language_info": {
   "codemirror_mode": {
    "name": "ipython",
    "version": 2
   },
   "file_extension": ".py",
   "mimetype": "text/x-python",
   "name": "python",
   "nbconvert_exporter": "python",
   "pygments_lexer": "ipython2",
   "version": "2.7.6"
  }
 },
 "nbformat": 4,
 "nbformat_minor": 5
}
